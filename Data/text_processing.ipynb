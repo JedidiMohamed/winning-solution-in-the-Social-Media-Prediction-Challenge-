{
 "cells": [
  {
   "cell_type": "code",
   "execution_count": 1,
   "metadata": {},
   "outputs": [],
   "source": [
    "import nltk\n",
    "import sys \n",
    "sys.path.append(\"../\")\n",
    "from LIB.utils import * \n",
    "import re\n",
    "from sklearn.decomposition  import  PCA\n",
    "from sklearn.feature_extraction.text import TfidfVectorizer\n"
   ]
  },
  {
   "cell_type": "code",
   "execution_count": 2,
   "metadata": {},
   "outputs": [],
   "source": [
    "train=pd.read_json(\"./train.zip\")\n",
    "test=pd.read_json(\"./test_questions.zip\")"
   ]
  },
  {
   "cell_type": "code",
   "execution_count": 3,
   "metadata": {},
   "outputs": [],
   "source": [
    "train=train[[\"id\",\"text\"]]\n",
    "test=test[[\"id\",\"text\"]]"
   ]
  },
  {
   "cell_type": "code",
   "execution_count": 4,
   "metadata": {},
   "outputs": [],
   "source": [
    "train[\"text\"]=train[\"text\"].apply(lambda x: \" \".join(filter(lambda y:(y[0]!='@') & (y[0]!=',@')&(y[0]!='#') & (y[0]!=',')\n",
    "                                                            , x.split())))\n",
    "train[\"text\"]=train[\"text\"].apply(lambda  x: re.sub(r'http\\S+', '', x,flags=re.MULTILINE) ) \n",
    "\n",
    "tokenizer=nltk.tokenize.WordPunctTokenizer()\n",
    "train[\"text\"]=tokenizer.tokenize_sents(train[\"text\"])\n",
    "# train[\"text\"]=train[\"text\"].apply(lambda x : \" \".join(x))\n",
    "stemmer= nltk.stem.WordNetLemmatizer()\n",
    "train[\"text\"]=train[\"text\"].apply(lambda x : \" \".join(stemmer.lemmatize(token) for token in x ) ) \n",
    "\n",
    "\n",
    "train[\"text\"]=train[\"text\"].apply(lambda x: \" \".join(filter(lambda y:(y[0]!='@') & (y[0]!=',@')&(y[0]!='#') & (y[0]!=',')\n",
    "                                                            , x.split())))\n",
    "\n",
    "train[\"text\"]=train[\"text\"].apply(lambda x :''.join(i for i in x if not i.isdigit()))\n",
    "\n",
    "tokenizer=nltk.tokenize.WordPunctTokenizer()\n",
    "train[\"text\"]=tokenizer.tokenize_sents(train[\"text\"])\n",
    "train[\"text\"]=train[\"text\"].apply(lambda x : \" \".join(x))\n",
    "\n",
    "test[\"text\"]=test[\"text\"].apply(lambda x: \" \".join(filter(lambda y:(y[0]!='@') & (y[0]!=',@')&(y[0]!='#') & (y[0]!=',')\n",
    "                                                            , x.split())))\n",
    "test[\"text\"]=test[\"text\"].apply(lambda  x: re.sub(r'http\\S+', '', x,flags=re.MULTILINE) ) \n",
    "\n",
    "tokenizer=nltk.tokenize.WordPunctTokenizer()\n",
    "test[\"text\"]=tokenizer.tokenize_sents(test[\"text\"])\n",
    "# test[\"text\"]=test[\"text\"].apply(lambda x : \" \".join(x))\n",
    "stemmer= nltk.stem.WordNetLemmatizer()\n",
    "test[\"text\"]=test[\"text\"].apply(lambda x : \" \".join(stemmer.lemmatize(token) for token in x ) ) \n",
    "\n",
    "\n",
    "test[\"text\"]=test[\"text\"].apply(lambda x: \" \".join(filter(lambda y:(y[0]!='@') & (y[0]!=',@')&(y[0]!='#') & (y[0]!=',')\n",
    "                                                            , x.split())))\n",
    "\n",
    "test[\"text\"]=test[\"text\"].apply(lambda x :''.join(i for i in x if not i.isdigit()))\n",
    "\n",
    "tokenizer=nltk.tokenize.WordPunctTokenizer()\n",
    "test[\"text\"]=tokenizer.tokenize_sents(test[\"text\"])\n",
    "test[\"text\"]=test[\"text\"].apply(lambda x : \" \".join(x))"
   ]
  },
  {
   "cell_type": "code",
   "execution_count": 6,
   "metadata": {},
   "outputs": [],
   "source": [
    "train[\"train\"]=1\n",
    "test[\"train\"]=0\n",
    "\n",
    "data=pd.concat([train,test])"
   ]
  },
  {
   "cell_type": "code",
   "execution_count": 7,
   "metadata": {},
   "outputs": [
    {
     "data": {
      "text/plain": [
       "14"
      ]
     },
     "execution_count": 7,
     "metadata": {},
     "output_type": "execute_result"
    }
   ],
   "source": [
    "del train ,test \n",
    "gc.collect()"
   ]
  },
  {
   "cell_type": "code",
   "execution_count": 8,
   "metadata": {},
   "outputs": [],
   "source": [
    "vectorizer = TfidfVectorizer()\n",
    "corpus=data.text.values.tolist()\n",
    "X = vectorizer.fit(corpus)"
   ]
  },
  {
   "cell_type": "code",
   "execution_count": 9,
   "metadata": {},
   "outputs": [],
   "source": [
    "tf_idf=X.transform(data[\"text\"])\n",
    "tf_idf_DF=pd.DataFrame()\n",
    "pca_tf_idf=PCA(n_components=20)\n",
    "tf_idf_array=pca_tf_idf.fit_transform(tf_idf.toarray())\n",
    "for i in range(tf_idf_array.shape[1]) :\n",
    "    tf_idf_DF[\"type_tf_idf_pca_\"+str(i)]=tf_idf_array[:,i]"
   ]
  },
  {
   "cell_type": "code",
   "execution_count": 10,
   "metadata": {},
   "outputs": [],
   "source": [
    "final_data=pd.concat([data.reset_index(),tf_idf_DF],axis=1)"
   ]
  },
  {
   "cell_type": "code",
   "execution_count": 11,
   "metadata": {},
   "outputs": [],
   "source": [
    "final_data.drop([\"index\",\"text\"],axis=1).to_csv(\"../data_proc/TF_IDF_20.csv\",index=False)"
   ]
  },
  {
   "cell_type": "code",
   "execution_count": null,
   "metadata": {},
   "outputs": [],
   "source": []
  }
 ],
 "metadata": {
  "kernelspec": {
   "display_name": "Python 3",
   "language": "python",
   "name": "python3"
  },
  "language_info": {
   "codemirror_mode": {
    "name": "ipython",
    "version": 3
   },
   "file_extension": ".py",
   "mimetype": "text/x-python",
   "name": "python",
   "nbconvert_exporter": "python",
   "pygments_lexer": "ipython3",
   "version": "3.5.2"
  }
 },
 "nbformat": 4,
 "nbformat_minor": 2
}
