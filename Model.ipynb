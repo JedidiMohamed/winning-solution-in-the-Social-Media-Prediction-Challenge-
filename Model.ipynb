{
 "cells": [
  {
   "cell_type": "code",
   "execution_count": 1,
   "metadata": {},
   "outputs": [],
   "source": [
    "import sys \n",
    "sys.path.append(\"../\")\n",
    "from LIB.utils import * "
   ]
  },
  {
   "cell_type": "code",
   "execution_count": 5,
   "metadata": {},
   "outputs": [],
   "source": [
    "v=\"_0\"\n",
    "train=pd.read_csv(\"./data_proc/train_0.csv\")\n",
    "test=pd.read_csv(\"./data_proc/test_0.csv\")\n",
    "Taregt_name=\"retweet_count\"\n",
    "\n",
    "train[Taregt_name]=np.log1p(train[Taregt_name])"
   ]
  },
  {
   "cell_type": "code",
   "execution_count": 6,
   "metadata": {},
   "outputs": [],
   "source": [
    "json_columns=['entities_urls',\n",
    " 'entities_hashtags',\n",
    " 'entities_user_mentions',\n",
    " 'user_entities']"
   ]
  },
  {
   "cell_type": "code",
   "execution_count": 7,
   "metadata": {},
   "outputs": [],
   "source": [
    "keys= [\"id\"]\n",
    "Taregt_name=\"retweet_count\"\n",
    "not_used_cols=[ 'favorite_count', 'user_created_at', 'retweet_count',\"in_reply_to_user_id\",\"train\"\n",
    "               \"in_reply_to_status_id\",\"id\",\"favorite_count\",\"created_at\",\"retweet_countpred\",\"retweet_count_without_zeros\",\n",
    "              \"entities_hashtags_text\"]+json_columns\n",
    "feautres_name=[ f for f in test.columns if f not in not_used_cols]\n",
    "from sklearn.metrics import mean_absolute_error\n",
    "def eval_metrics(y_ture,y_hat):\n",
    "    return mean_absolute_error(y_ture,y_hat)\n",
    "\n",
    "from LIB.lgbm_model import * \n",
    "params = {\n",
    "            \"objective\" : \"regression\", \n",
    "            \"metric\" : \"rmse\",\n",
    "            \"max_depth\":9,\n",
    "            \"feature_fraction\":0.75,\n",
    "            \"bagging_fraction\":0.75,\n",
    "            \"bagging_freq\" : 2,\n",
    "            \"lambda\" : 0.1,\n",
    "            \"num_threads\" :30}\n",
    "\n",
    "\n",
    "# params = {\"objective\" : \"regression\", \n",
    "#           \"metric\" : \"rmse\",\n",
    "#           \"max_depth\": 8,  \n",
    "#           \"learning_rate\" : 0.01,\n",
    "#           \"subsample\" : 0.8, \n",
    "#           \"colsample_bytree\" : 0.9,\n",
    "#           \"num_threads\":20}"
   ]
  },
  {
   "cell_type": "code",
   "execution_count": 8,
   "metadata": {},
   "outputs": [
    {
     "name": "stdout",
     "output_type": "stream",
     "text": [
      "##################################################fold:1##################################################\n",
      "run 0 train metrics :0.20476825056872328 val metrics : 0.24944000406096922\n",
      "\n",
      "fold-1 train metrics :0.20476825056872328 val metrics : 0.24944000406096922\n",
      "##################################################fold:2##################################################\n",
      "run 0 train metrics :0.20554321113488333 val metrics : 0.2539742952367196\n",
      "\n",
      "fold-2 train metrics :0.20554321113488333 val metrics : 0.2539742952367196\n",
      "##################################################fold:3##################################################\n",
      "run 0 train metrics :0.20126416460102683 val metrics : 0.24819185771378727\n",
      "\n",
      "fold-3 train metrics :0.20126416460102683 val metrics : 0.24819185771378727\n",
      "##################################################fold:4##################################################\n",
      "run 0 train metrics :0.20413962293667584 val metrics : 0.24590539213475082\n",
      "\n",
      "fold-4 train metrics :0.20413962293667584 val metrics : 0.24590539213475082\n",
      "##################################################fold:5##################################################\n",
      "run 0 train metrics :0.2220084321832248 val metrics : 0.2555428846921382\n",
      "\n",
      "fold-5 train metrics :0.2220084321832248 val metrics : 0.2555428846921382\n",
      "##################################################fold:6##################################################\n",
      "run 0 train metrics :0.19772457397446477 val metrics : 0.2578572930539219\n",
      "\n",
      "fold-6 train metrics :0.19772457397446477 val metrics : 0.2578572930539219\n",
      "##################################################fold:7##################################################\n",
      "run 0 train metrics :0.20772931617552776 val metrics : 0.2499669172491014\n",
      "\n",
      "fold-7 train metrics :0.20772931617552776 val metrics : 0.2499669172491014\n",
      "##################################################fold:8##################################################\n",
      "run 0 train metrics :0.2011752079184446 val metrics : 0.25289455022313706\n",
      "\n",
      "fold-8 train metrics :0.2011752079184446 val metrics : 0.25289455022313706\n",
      "##################################################fold:9##################################################\n",
      "run 0 train metrics :0.20711540838279743 val metrics : 0.25477923104088834\n",
      "\n",
      "fold-9 train metrics :0.20711540838279743 val metrics : 0.25477923104088834\n",
      "##################################################fold:10##################################################\n",
      "run 0 train metrics :0.20388777269184372 val metrics : 0.24721423648901505\n",
      "\n",
      "fold-10 train metrics :0.20388777269184372 val metrics : 0.24721423648901505\n",
      "End Training with  train metrics :0.20553559605676125 val metrics : 0.2515766661894429\n"
     ]
    }
   ],
   "source": [
    "LGBM= lightgbm_model( Train_df=train,\n",
    "                        Test_df=test,\n",
    "                        feval_metrics=eval_metrics,\n",
    "                        Target_name=Taregt_name,\n",
    "                        params=params,\n",
    "                        feature_names=feautres_name,\n",
    "                        keys=keys,\n",
    "                        verbose_eval=50,\n",
    "                        early_stopping_rounds=50,\n",
    "                        num_boost_round=20000,\n",
    "                        maximize=False,\n",
    "                        test_size=0.15,\n",
    "                        nbr_fold=10,\n",
    "                        nbr_run=1)\n",
    "train_pred_lgbm1,test_pred_lgbm=LGBM.lightgbm_Kfold()\n",
    "\n",
    "test_pred_lgbm[\"retweet_count\"]=np.expm1(test_pred_lgbm[\"retweet_count\"])\n",
    "test_pred_lgbm[\"retweet_count\"]=test_pred_lgbm[\"retweet_count\"].apply(lambda x : 0 if x<0 else x )\n",
    "\n"
   ]
  },
  {
   "cell_type": "code",
   "execution_count": 9,
   "metadata": {},
   "outputs": [
    {
     "name": "stdout",
     "output_type": "stream",
     "text": [
      "##################################################fold:1##################################################\n",
      "run 0 train metrics :0.15806657 val metrics : 0.24221319\n",
      "\n",
      "fold-1 train metrics :0.15806657 val metrics : 0.24221319\n",
      "##################################################fold:2##################################################\n",
      "run 0 train metrics :0.15867966 val metrics : 0.24872243\n",
      "\n",
      "fold-2 train metrics :0.15867966 val metrics : 0.24872243\n",
      "##################################################fold:3##################################################\n",
      "run 0 train metrics :0.11375469 val metrics : 0.24353318\n",
      "\n",
      "fold-3 train metrics :0.11375469 val metrics : 0.24353318\n",
      "##################################################fold:4##################################################\n",
      "run 0 train metrics :0.13486819 val metrics : 0.23864982\n",
      "\n",
      "fold-4 train metrics :0.13486819 val metrics : 0.23864982\n",
      "##################################################fold:5##################################################\n",
      "run 0 train metrics :0.153733 val metrics : 0.24782363\n",
      "\n",
      "fold-5 train metrics :0.153733 val metrics : 0.24782363\n",
      "##################################################fold:6##################################################\n",
      "run 0 train metrics :0.14061359 val metrics : 0.25063702\n",
      "\n",
      "fold-6 train metrics :0.14061359 val metrics : 0.25063702\n",
      "##################################################fold:7##################################################\n",
      "run 0 train metrics :0.16156687 val metrics : 0.24273983\n",
      "\n",
      "fold-7 train metrics :0.16156687 val metrics : 0.24273983\n",
      "##################################################fold:8##################################################\n",
      "run 0 train metrics :0.14351404 val metrics : 0.24792263\n",
      "\n",
      "fold-8 train metrics :0.14351404 val metrics : 0.24792263\n",
      "##################################################fold:9##################################################\n",
      "run 0 train metrics :0.14443436 val metrics : 0.24912725\n",
      "\n",
      "fold-9 train metrics :0.14443436 val metrics : 0.24912725\n",
      "##################################################fold:10##################################################\n",
      "run 0 train metrics :0.15635057 val metrics : 0.24165247\n",
      "\n",
      "fold-10 train metrics :0.15635057 val metrics : 0.24165247\n",
      "End Training with  train metrics :0.14655815 val metrics : 0.24530213\n"
     ]
    }
   ],
   "source": [
    "from LIB.xgb import * \n",
    "# best\n",
    "params= {'min_child_weight': 10, 'eta': 0.04, 'colsample_bytree': 0.75, 'max_depth': 9,\n",
    "            'subsample': 0.75, 'lambda': 3, 'nthread': 40, 'booster' : 'gbtree', 'silent': 1,\n",
    "            'eval_metric': 'rmse', 'objective': 'reg:linear'}\n",
    "\n",
    "# params= {'min_child_weight': 10, 'eta': 0.04, 'colsample_bytree': 0.75, 'max_depth': 9,\n",
    "#             'subsample': 0.75, 'lambda': 3, 'nthread': 40, 'booster' : 'gbtree', 'silent': 1,\n",
    "#             'eval_metric': 'rmse', 'objective': 'reg:linear'}\n",
    "\n",
    "# params= {'min_child_weight': 20, 'eta': 0.03, 'colsample_bytree': 0.9, 'max_depth':10,\n",
    "#             'subsample': 0.9,'lambda': 2.5, 'nthread': 40, 'booster' : 'gbtree', 'silent': 1,\n",
    "#             'eval_metric': 'rmse', 'objective': 'reg:linear'}\n",
    "\n",
    "XGBoost= Xgboost_model( Train_df=train,\n",
    "                        Test_df=test,\n",
    "                        feval_metrics=eval_metrics,\n",
    "                        Target_name=Taregt_name,\n",
    "                        params=params,\n",
    "                        feature_names=feautres_name,\n",
    "                        keys=keys,\n",
    "                        verbose_eval=10,\n",
    "                        early_stopping_rounds=100,\n",
    "                        num_boost_round=20000,\n",
    "                        maximize=False,\n",
    "                        test_size=0.1,\n",
    "                        nbr_fold=10,\n",
    "                        nbr_run=1)\n",
    "train_pred_xgboost,test_pred_xgboost=XGBoost.Xgboost_Kfold()\n",
    "test_pred_xgboost[\"retweet_count\"]=np.expm1(test_pred_xgboost[\"retweet_count\"])\n",
    "test_pred_xgboost[\"retweet_count\"]=test_pred_xgboost[\"retweet_count\"].apply(lambda x : 0 if x<0 else x )\n",
    "\n"
   ]
  },
  {
   "cell_type": "code",
   "execution_count": 10,
   "metadata": {},
   "outputs": [],
   "source": [
    "merge=test_pred_xgboost.copy()\n",
    "merge.retweet_count=(merge.retweet_count*0.5+test_pred_lgbm.retweet_count*0.5)\n",
    "\n",
    "\n",
    "test_pred_xgboost.retweet_count=test_pred_xgboost.retweet_count.round()\n",
    "test_pred_xgboost.to_csv(\"sub/xgboost_Twi_model.csv\",index=False)\n",
    "\n",
    "test_pred_lgbm.retweet_count=test_pred_lgbm.retweet_count.round()\n",
    "test_pred_lgbm.to_csv(\"sub/lgbm_Twi_model.csv\",index=False)\n",
    "\n",
    "\n",
    "merge.retweet_count=merge.retweet_count.round()\n",
    "merge.to_csv(\"sub/merge_Twi_model.csv\",index=False)"
   ]
  },
  {
   "cell_type": "code",
   "execution_count": 11,
   "metadata": {},
   "outputs": [
    {
     "ename": "SyntaxError",
     "evalue": "invalid syntax (<ipython-input-11-7e6f8b80c8ad>, line 1)",
     "output_type": "error",
     "traceback": [
      "\u001b[0;36m  File \u001b[0;32m\"<ipython-input-11-7e6f8b80c8ad>\"\u001b[0;36m, line \u001b[0;32m1\u001b[0m\n\u001b[0;31m    zip -r myfiles.zip ../twitter_solution/\u001b[0m\n\u001b[0m                 ^\u001b[0m\n\u001b[0;31mSyntaxError\u001b[0m\u001b[0;31m:\u001b[0m invalid syntax\n"
     ]
    }
   ],
   "source": [
    "zip -r myfiles.zip ../twitter_solution/"
   ]
  },
  {
   "cell_type": "code",
   "execution_count": null,
   "metadata": {},
   "outputs": [],
   "source": []
  }
 ],
 "metadata": {
  "kernelspec": {
   "display_name": "Python 3",
   "language": "python",
   "name": "python3"
  },
  "language_info": {
   "codemirror_mode": {
    "name": "ipython",
    "version": 3
   },
   "file_extension": ".py",
   "mimetype": "text/x-python",
   "name": "python",
   "nbconvert_exporter": "python",
   "pygments_lexer": "ipython3",
   "version": "3.5.2"
  }
 },
 "nbformat": 4,
 "nbformat_minor": 2
}
